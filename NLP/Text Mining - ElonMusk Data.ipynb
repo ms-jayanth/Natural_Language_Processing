{
 "cells": [
  {
   "cell_type": "markdown",
   "id": "92fae28d",
   "metadata": {},
   "source": [
    "## Text Mining"
   ]
  },
  {
   "cell_type": "markdown",
   "id": "6c565820",
   "metadata": {},
   "source": [
    "### Perform Sentimental Analysis on the Elon-musk tweets (Elon-musk.csv)."
   ]
  },
  {
   "cell_type": "markdown",
   "id": "73e84a38",
   "metadata": {},
   "source": [
    "## 1. Import Necessary Libraries"
   ]
  },
  {
   "cell_type": "code",
   "execution_count": 1,
   "id": "214c91f4",
   "metadata": {},
   "outputs": [
    {
     "name": "stdout",
     "output_type": "stream",
     "text": [
      "Requirement already satisfied: textblob in c:\\users\\santh\\anaconda3\\lib\\site-packages (0.17.1)\n",
      "Requirement already satisfied: nltk>=3.1 in c:\\users\\santh\\anaconda3\\lib\\site-packages (from textblob) (3.6.1)\n",
      "Requirement already satisfied: tqdm in c:\\users\\santh\\anaconda3\\lib\\site-packages (from nltk>=3.1->textblob) (4.59.0)\n",
      "Requirement already satisfied: click in c:\\users\\santh\\anaconda3\\lib\\site-packages (from nltk>=3.1->textblob) (7.1.2)\n",
      "Requirement already satisfied: regex in c:\\users\\santh\\anaconda3\\lib\\site-packages (from nltk>=3.1->textblob) (2021.4.4)\n",
      "Requirement already satisfied: joblib in c:\\users\\santh\\anaconda3\\lib\\site-packages (from nltk>=3.1->textblob) (1.0.1)\n"
     ]
    }
   ],
   "source": [
    "!pip install textblob"
   ]
  },
  {
   "cell_type": "code",
   "execution_count": 2,
   "id": "57602250",
   "metadata": {},
   "outputs": [
    {
     "name": "stderr",
     "output_type": "stream",
     "text": [
      "[nltk_data] Downloading package vader_lexicon to\n",
      "[nltk_data]     C:\\Users\\santh\\AppData\\Roaming\\nltk_data...\n",
      "[nltk_data]   Package vader_lexicon is already up-to-date!\n"
     ]
    }
   ],
   "source": [
    "import pandas as pd\n",
    "import matplotlib.pyplot as plt\n",
    "\n",
    "import warnings\n",
    "warnings.filterwarnings('ignore')\n",
    "\n",
    "import re\n",
    "import nltk\n",
    "from nltk.tokenize import TweetTokenizer\n",
    "from nltk.corpus import stopwords\n",
    "from nltk.stem import WordNetLemmatizer\n",
    "from nltk.sentiment.vader import SentimentIntensityAnalyzer\n",
    "nltk.download('vader_lexicon')\n",
    "from textblob import TextBlob"
   ]
  },
  {
   "cell_type": "markdown",
   "id": "c71c24f6",
   "metadata": {},
   "source": [
    "## 2. Import Data"
   ]
  },
  {
   "cell_type": "code",
   "execution_count": 3,
   "id": "099a080c",
   "metadata": {},
   "outputs": [
    {
     "data": {
      "text/html": [
       "<div>\n",
       "<style scoped>\n",
       "    .dataframe tbody tr th:only-of-type {\n",
       "        vertical-align: middle;\n",
       "    }\n",
       "\n",
       "    .dataframe tbody tr th {\n",
       "        vertical-align: top;\n",
       "    }\n",
       "\n",
       "    .dataframe thead th {\n",
       "        text-align: right;\n",
       "    }\n",
       "</style>\n",
       "<table border=\"1\" class=\"dataframe\">\n",
       "  <thead>\n",
       "    <tr style=\"text-align: right;\">\n",
       "      <th></th>\n",
       "      <th>Text</th>\n",
       "    </tr>\n",
       "  </thead>\n",
       "  <tbody>\n",
       "    <tr>\n",
       "      <th>0</th>\n",
       "      <td>@kunalb11 Im an alien</td>\n",
       "    </tr>\n",
       "    <tr>\n",
       "      <th>1</th>\n",
       "      <td>@ID_AA_Carmack Ray tracing on Cyberpunk with H...</td>\n",
       "    </tr>\n",
       "    <tr>\n",
       "      <th>2</th>\n",
       "      <td>@joerogan @Spotify Great interview!</td>\n",
       "    </tr>\n",
       "    <tr>\n",
       "      <th>3</th>\n",
       "      <td>@gtera27 Doge is underestimated</td>\n",
       "    </tr>\n",
       "    <tr>\n",
       "      <th>4</th>\n",
       "      <td>@teslacn Congratulations Tesla China for amazi...</td>\n",
       "    </tr>\n",
       "    <tr>\n",
       "      <th>...</th>\n",
       "      <td>...</td>\n",
       "    </tr>\n",
       "    <tr>\n",
       "      <th>1994</th>\n",
       "      <td>@flcnhvy True, it sounds so surreal, but the n...</td>\n",
       "    </tr>\n",
       "    <tr>\n",
       "      <th>1995</th>\n",
       "      <td>@PPathole Make sure to read ur terms &amp;amp; con...</td>\n",
       "    </tr>\n",
       "    <tr>\n",
       "      <th>1996</th>\n",
       "      <td>@TeslaGong @PPathole Samwise Gamgee</td>\n",
       "    </tr>\n",
       "    <tr>\n",
       "      <th>1997</th>\n",
       "      <td>@PPathole Altho Dumb and Dumber is &lt;U+0001F525...</td>\n",
       "    </tr>\n",
       "    <tr>\n",
       "      <th>1998</th>\n",
       "      <td>Progress update August 28</td>\n",
       "    </tr>\n",
       "  </tbody>\n",
       "</table>\n",
       "<p>1999 rows × 1 columns</p>\n",
       "</div>"
      ],
      "text/plain": [
       "                                                   Text\n",
       "0                                @kunalb11 Im an alien\n",
       "1     @ID_AA_Carmack Ray tracing on Cyberpunk with H...\n",
       "2                   @joerogan @Spotify Great interview!\n",
       "3                       @gtera27 Doge is underestimated\n",
       "4     @teslacn Congratulations Tesla China for amazi...\n",
       "...                                                 ...\n",
       "1994  @flcnhvy True, it sounds so surreal, but the n...\n",
       "1995  @PPathole Make sure to read ur terms &amp; con...\n",
       "1996                @TeslaGong @PPathole Samwise Gamgee\n",
       "1997  @PPathole Altho Dumb and Dumber is <U+0001F525...\n",
       "1998                          Progress update August 28\n",
       "\n",
       "[1999 rows x 1 columns]"
      ]
     },
     "execution_count": 3,
     "metadata": {},
     "output_type": "execute_result"
    }
   ],
   "source": [
    "tweets_data=pd.read_csv('Elon_musk.csv', engine='python', encoding='latin',error_bad_lines=False)\n",
    "del tweets_data['Unnamed: 0']\n",
    "tweets_data  "
   ]
  },
  {
   "cell_type": "markdown",
   "id": "930ab8d2",
   "metadata": {},
   "source": [
    "## 3. Data Understanding"
   ]
  },
  {
   "cell_type": "code",
   "execution_count": 4,
   "id": "58b22b6a",
   "metadata": {},
   "outputs": [
    {
     "data": {
      "text/plain": [
       "(1999, 1)"
      ]
     },
     "execution_count": 4,
     "metadata": {},
     "output_type": "execute_result"
    }
   ],
   "source": [
    "tweets_data.shape"
   ]
  },
  {
   "cell_type": "code",
   "execution_count": 5,
   "id": "ebd32a46",
   "metadata": {},
   "outputs": [
    {
     "data": {
      "text/plain": [
       "Text    object\n",
       "dtype: object"
      ]
     },
     "execution_count": 5,
     "metadata": {},
     "output_type": "execute_result"
    }
   ],
   "source": [
    "tweets_data.dtypes"
   ]
  },
  {
   "cell_type": "code",
   "execution_count": 6,
   "id": "f4f40e67",
   "metadata": {},
   "outputs": [
    {
     "data": {
      "text/plain": [
       "Text    0\n",
       "dtype: int64"
      ]
     },
     "execution_count": 6,
     "metadata": {},
     "output_type": "execute_result"
    }
   ],
   "source": [
    "tweets_data.isna().sum()"
   ]
  },
  {
   "cell_type": "markdown",
   "id": "312a97ce",
   "metadata": {},
   "source": [
    "## 4. Data Pre-Processing"
   ]
  },
  {
   "cell_type": "code",
   "execution_count": 7,
   "id": "e430897e",
   "metadata": {},
   "outputs": [],
   "source": [
    "cleaned_corpus = []\n",
    "#ps = PorterStemmer()\n",
    "lz = WordNetLemmatizer()\n",
    "#Tokenizer for tweets. Removes Twitter username handles from a given twitter text. (Removes @usernames)\n",
    "tweet_tokenizer=TweetTokenizer(strip_handles=True, reduce_len=True)\n",
    "\n",
    "for i in range(0,len(tweets_data)):\n",
    "    review = re.sub(r'http\\S+', '', tweets_data['Text'][i])\n",
    "    review = re.sub('[^A-Za-z]', ' ', review)\n",
    "    review = review.lower()\n",
    "    review = tweet_tokenizer.tokenize(review)\n",
    "    review = [lz.lemmatize(word) for word in review if not word in stopwords.words('english')]\n",
    "    review = ' '.join(review)\n",
    "    cleaned_corpus.append(review)"
   ]
  },
  {
   "cell_type": "code",
   "execution_count": 8,
   "id": "57f87fac",
   "metadata": {},
   "outputs": [
    {
     "data": {
      "text/plain": [
       "['kunalb alien',\n",
       " 'id aa carmack ray tracing cyberpunk hdr next level tried',\n",
       " 'joerogan spotify great interview',\n",
       " 'gtera doge underestimated',\n",
       " 'teslacn congratulation tesla china amazing execution last year next even',\n",
       " 'happy new year ox',\n",
       " 'frodo underdoge thought would fail',\n",
       " 'owensparks flcnhvy anonyx haha thanks',\n",
       " 'flcnhvy anonyx indeed tweet definitely represent real world time allocation',\n",
       " 'entertaining outcome likely',\n",
       " 'givedirectly sent',\n",
       " 'agree clubhouse kanyewest',\n",
       " '',\n",
       " 'geoffkeighley unrealengine getting real',\n",
       " 'bought dogecoin lil x toddler hodler',\n",
       " 'joshmanmode definitely issue sentencing seems bit high',\n",
       " 'freewalletorg thanks fixing',\n",
       " 'freewalletorg please unlock account',\n",
       " 'astrojordy u f u f',\n",
       " 'true power haha',\n",
       " 'freewalletorg crypto wallet give private key avoided cost',\n",
       " 'freewalletorg app suck',\n",
       " 'rt spacex nasa selected falcon heavy launch first two element lunar gateway together one mission',\n",
       " 'ajtourville yes',\n",
       " 'blkmdl rationaletienne adamklotz predict cash flow reasonably well starlink ipo']"
      ]
     },
     "execution_count": 8,
     "metadata": {},
     "output_type": "execute_result"
    }
   ],
   "source": [
    "cleaned_corpus[:25]"
   ]
  },
  {
   "cell_type": "code",
   "execution_count": 9,
   "id": "57200776",
   "metadata": {},
   "outputs": [
    {
     "data": {
      "text/html": [
       "<div>\n",
       "<style scoped>\n",
       "    .dataframe tbody tr th:only-of-type {\n",
       "        vertical-align: middle;\n",
       "    }\n",
       "\n",
       "    .dataframe tbody tr th {\n",
       "        vertical-align: top;\n",
       "    }\n",
       "\n",
       "    .dataframe thead th {\n",
       "        text-align: right;\n",
       "    }\n",
       "</style>\n",
       "<table border=\"1\" class=\"dataframe\">\n",
       "  <thead>\n",
       "    <tr style=\"text-align: right;\">\n",
       "      <th></th>\n",
       "      <th>Text</th>\n",
       "      <th>cleaned_corpus</th>\n",
       "    </tr>\n",
       "  </thead>\n",
       "  <tbody>\n",
       "    <tr>\n",
       "      <th>0</th>\n",
       "      <td>@kunalb11 Im an alien</td>\n",
       "      <td>kunalb alien</td>\n",
       "    </tr>\n",
       "    <tr>\n",
       "      <th>1</th>\n",
       "      <td>@ID_AA_Carmack Ray tracing on Cyberpunk with H...</td>\n",
       "      <td>id aa carmack ray tracing cyberpunk hdr next l...</td>\n",
       "    </tr>\n",
       "    <tr>\n",
       "      <th>2</th>\n",
       "      <td>@joerogan @Spotify Great interview!</td>\n",
       "      <td>joerogan spotify great interview</td>\n",
       "    </tr>\n",
       "    <tr>\n",
       "      <th>3</th>\n",
       "      <td>@gtera27 Doge is underestimated</td>\n",
       "      <td>gtera doge underestimated</td>\n",
       "    </tr>\n",
       "    <tr>\n",
       "      <th>4</th>\n",
       "      <td>@teslacn Congratulations Tesla China for amazi...</td>\n",
       "      <td>teslacn congratulation tesla china amazing exe...</td>\n",
       "    </tr>\n",
       "  </tbody>\n",
       "</table>\n",
       "</div>"
      ],
      "text/plain": [
       "                                                Text  \\\n",
       "0                             @kunalb11 Im an alien   \n",
       "1  @ID_AA_Carmack Ray tracing on Cyberpunk with H...   \n",
       "2                @joerogan @Spotify Great interview!   \n",
       "3                    @gtera27 Doge is underestimated   \n",
       "4  @teslacn Congratulations Tesla China for amazi...   \n",
       "\n",
       "                                      cleaned_corpus  \n",
       "0                                       kunalb alien  \n",
       "1  id aa carmack ray tracing cyberpunk hdr next l...  \n",
       "2                   joerogan spotify great interview  \n",
       "3                          gtera doge underestimated  \n",
       "4  teslacn congratulation tesla china amazing exe...  "
      ]
     },
     "execution_count": 9,
     "metadata": {},
     "output_type": "execute_result"
    }
   ],
   "source": [
    "tweets_data['cleaned_corpus']=cleaned_corpus\n",
    "tweets_data.head()"
   ]
  },
  {
   "cell_type": "markdown",
   "id": "5dd8bb4d",
   "metadata": {},
   "source": [
    "## 5. Model Building"
   ]
  },
  {
   "cell_type": "code",
   "execution_count": 10,
   "id": "060fb573",
   "metadata": {},
   "outputs": [
    {
     "data": {
      "text/html": [
       "<div>\n",
       "<style scoped>\n",
       "    .dataframe tbody tr th:only-of-type {\n",
       "        vertical-align: middle;\n",
       "    }\n",
       "\n",
       "    .dataframe tbody tr th {\n",
       "        vertical-align: top;\n",
       "    }\n",
       "\n",
       "    .dataframe thead th {\n",
       "        text-align: right;\n",
       "    }\n",
       "</style>\n",
       "<table border=\"1\" class=\"dataframe\">\n",
       "  <thead>\n",
       "    <tr style=\"text-align: right;\">\n",
       "      <th></th>\n",
       "      <th>Text</th>\n",
       "      <th>cleaned_corpus</th>\n",
       "      <th>Polarity</th>\n",
       "    </tr>\n",
       "  </thead>\n",
       "  <tbody>\n",
       "    <tr>\n",
       "      <th>0</th>\n",
       "      <td>@kunalb11 Im an alien</td>\n",
       "      <td>kunalb alien</td>\n",
       "      <td>-0.25</td>\n",
       "    </tr>\n",
       "    <tr>\n",
       "      <th>1</th>\n",
       "      <td>@ID_AA_Carmack Ray tracing on Cyberpunk with H...</td>\n",
       "      <td>id aa carmack ray tracing cyberpunk hdr next l...</td>\n",
       "      <td>0.00</td>\n",
       "    </tr>\n",
       "    <tr>\n",
       "      <th>2</th>\n",
       "      <td>@joerogan @Spotify Great interview!</td>\n",
       "      <td>joerogan spotify great interview</td>\n",
       "      <td>0.80</td>\n",
       "    </tr>\n",
       "    <tr>\n",
       "      <th>3</th>\n",
       "      <td>@gtera27 Doge is underestimated</td>\n",
       "      <td>gtera doge underestimated</td>\n",
       "      <td>0.00</td>\n",
       "    </tr>\n",
       "    <tr>\n",
       "      <th>4</th>\n",
       "      <td>@teslacn Congratulations Tesla China for amazi...</td>\n",
       "      <td>teslacn congratulation tesla china amazing exe...</td>\n",
       "      <td>0.20</td>\n",
       "    </tr>\n",
       "  </tbody>\n",
       "</table>\n",
       "</div>"
      ],
      "text/plain": [
       "                                                Text  \\\n",
       "0                             @kunalb11 Im an alien   \n",
       "1  @ID_AA_Carmack Ray tracing on Cyberpunk with H...   \n",
       "2                @joerogan @Spotify Great interview!   \n",
       "3                    @gtera27 Doge is underestimated   \n",
       "4  @teslacn Congratulations Tesla China for amazi...   \n",
       "\n",
       "                                      cleaned_corpus  Polarity  \n",
       "0                                       kunalb alien     -0.25  \n",
       "1  id aa carmack ray tracing cyberpunk hdr next l...      0.00  \n",
       "2                   joerogan spotify great interview      0.80  \n",
       "3                          gtera doge underestimated      0.00  \n",
       "4  teslacn congratulation tesla china amazing exe...      0.20  "
      ]
     },
     "execution_count": 10,
     "metadata": {},
     "output_type": "execute_result"
    }
   ],
   "source": [
    "tweets_data['Polarity']=tweets_data['cleaned_corpus'].apply(lambda x: TextBlob(x).sentiment[0])\n",
    "tweets_data.head()"
   ]
  },
  {
   "cell_type": "code",
   "execution_count": 11,
   "id": "30fd7cdb",
   "metadata": {},
   "outputs": [
    {
     "data": {
      "text/html": [
       "<div>\n",
       "<style scoped>\n",
       "    .dataframe tbody tr th:only-of-type {\n",
       "        vertical-align: middle;\n",
       "    }\n",
       "\n",
       "    .dataframe tbody tr th {\n",
       "        vertical-align: top;\n",
       "    }\n",
       "\n",
       "    .dataframe thead th {\n",
       "        text-align: right;\n",
       "    }\n",
       "</style>\n",
       "<table border=\"1\" class=\"dataframe\">\n",
       "  <thead>\n",
       "    <tr style=\"text-align: right;\">\n",
       "      <th></th>\n",
       "      <th>Text</th>\n",
       "      <th>cleaned_corpus</th>\n",
       "      <th>Polarity</th>\n",
       "      <th>Sentiments</th>\n",
       "    </tr>\n",
       "  </thead>\n",
       "  <tbody>\n",
       "    <tr>\n",
       "      <th>0</th>\n",
       "      <td>@kunalb11 Im an alien</td>\n",
       "      <td>kunalb alien</td>\n",
       "      <td>-0.250000</td>\n",
       "      <td>Negetive</td>\n",
       "    </tr>\n",
       "    <tr>\n",
       "      <th>1</th>\n",
       "      <td>@ID_AA_Carmack Ray tracing on Cyberpunk with H...</td>\n",
       "      <td>id aa carmack ray tracing cyberpunk hdr next l...</td>\n",
       "      <td>0.000000</td>\n",
       "      <td>Neutral</td>\n",
       "    </tr>\n",
       "    <tr>\n",
       "      <th>2</th>\n",
       "      <td>@joerogan @Spotify Great interview!</td>\n",
       "      <td>joerogan spotify great interview</td>\n",
       "      <td>0.800000</td>\n",
       "      <td>Positive</td>\n",
       "    </tr>\n",
       "    <tr>\n",
       "      <th>3</th>\n",
       "      <td>@gtera27 Doge is underestimated</td>\n",
       "      <td>gtera doge underestimated</td>\n",
       "      <td>0.000000</td>\n",
       "      <td>Neutral</td>\n",
       "    </tr>\n",
       "    <tr>\n",
       "      <th>4</th>\n",
       "      <td>@teslacn Congratulations Tesla China for amazi...</td>\n",
       "      <td>teslacn congratulation tesla china amazing exe...</td>\n",
       "      <td>0.200000</td>\n",
       "      <td>Positive</td>\n",
       "    </tr>\n",
       "    <tr>\n",
       "      <th>...</th>\n",
       "      <td>...</td>\n",
       "      <td>...</td>\n",
       "      <td>...</td>\n",
       "      <td>...</td>\n",
       "    </tr>\n",
       "    <tr>\n",
       "      <th>1994</th>\n",
       "      <td>@flcnhvy True, it sounds so surreal, but the n...</td>\n",
       "      <td>flcnhvy true sound surreal negative propaganda...</td>\n",
       "      <td>0.152381</td>\n",
       "      <td>Positive</td>\n",
       "    </tr>\n",
       "    <tr>\n",
       "      <th>1995</th>\n",
       "      <td>@PPathole Make sure to read ur terms &amp;amp; con...</td>\n",
       "      <td>ppathole make sure read ur term amp condition ...</td>\n",
       "      <td>0.500000</td>\n",
       "      <td>Positive</td>\n",
       "    </tr>\n",
       "    <tr>\n",
       "      <th>1996</th>\n",
       "      <td>@TeslaGong @PPathole Samwise Gamgee</td>\n",
       "      <td>teslagong ppathole samwise gamgee</td>\n",
       "      <td>0.000000</td>\n",
       "      <td>Neutral</td>\n",
       "    </tr>\n",
       "    <tr>\n",
       "      <th>1997</th>\n",
       "      <td>@PPathole Altho Dumb and Dumber is &lt;U+0001F525...</td>\n",
       "      <td>ppathole altho dumb dumber u f u f</td>\n",
       "      <td>-0.375000</td>\n",
       "      <td>Negetive</td>\n",
       "    </tr>\n",
       "    <tr>\n",
       "      <th>1998</th>\n",
       "      <td>Progress update August 28</td>\n",
       "      <td>progress update august</td>\n",
       "      <td>0.000000</td>\n",
       "      <td>Neutral</td>\n",
       "    </tr>\n",
       "  </tbody>\n",
       "</table>\n",
       "<p>1999 rows × 4 columns</p>\n",
       "</div>"
      ],
      "text/plain": [
       "                                                   Text  \\\n",
       "0                                @kunalb11 Im an alien   \n",
       "1     @ID_AA_Carmack Ray tracing on Cyberpunk with H...   \n",
       "2                   @joerogan @Spotify Great interview!   \n",
       "3                       @gtera27 Doge is underestimated   \n",
       "4     @teslacn Congratulations Tesla China for amazi...   \n",
       "...                                                 ...   \n",
       "1994  @flcnhvy True, it sounds so surreal, but the n...   \n",
       "1995  @PPathole Make sure to read ur terms &amp; con...   \n",
       "1996                @TeslaGong @PPathole Samwise Gamgee   \n",
       "1997  @PPathole Altho Dumb and Dumber is <U+0001F525...   \n",
       "1998                          Progress update August 28   \n",
       "\n",
       "                                         cleaned_corpus  Polarity Sentiments  \n",
       "0                                          kunalb alien -0.250000   Negetive  \n",
       "1     id aa carmack ray tracing cyberpunk hdr next l...  0.000000    Neutral  \n",
       "2                      joerogan spotify great interview  0.800000   Positive  \n",
       "3                             gtera doge underestimated  0.000000    Neutral  \n",
       "4     teslacn congratulation tesla china amazing exe...  0.200000   Positive  \n",
       "...                                                 ...       ...        ...  \n",
       "1994  flcnhvy true sound surreal negative propaganda...  0.152381   Positive  \n",
       "1995  ppathole make sure read ur term amp condition ...  0.500000   Positive  \n",
       "1996                  teslagong ppathole samwise gamgee  0.000000    Neutral  \n",
       "1997                 ppathole altho dumb dumber u f u f -0.375000   Negetive  \n",
       "1998                             progress update august  0.000000    Neutral  \n",
       "\n",
       "[1999 rows x 4 columns]"
      ]
     },
     "execution_count": 11,
     "metadata": {},
     "output_type": "execute_result"
    }
   ],
   "source": [
    "tweets_data['Sentiments']=tweets_data['Polarity'].apply(lambda x: 'Positive' if x >0 else ('Neutral' if x==0 else 'Negetive'))\n",
    "tweets_data"
   ]
  },
  {
   "cell_type": "code",
   "execution_count": 12,
   "id": "3c5ae40b",
   "metadata": {},
   "outputs": [
    {
     "data": {
      "text/plain": [
       "Neutral     925\n",
       "Positive    859\n",
       "Negetive    215\n",
       "Name: Sentiments, dtype: int64"
      ]
     },
     "execution_count": 12,
     "metadata": {},
     "output_type": "execute_result"
    }
   ],
   "source": [
    "tweets_data['Sentiments'].value_counts()"
   ]
  },
  {
   "cell_type": "code",
   "execution_count": 13,
   "id": "38aa603f",
   "metadata": {},
   "outputs": [
    {
     "data": {
      "image/png": "[encoded data removed]",
      "text/plain": [
       "<Figure size 432x288 with 1 Axes>"
      ]
     },
     "metadata": {},
     "output_type": "display_data"
    }
   ],
   "source": [
    "plt.pie(x=tweets_data['Sentiments'].value_counts(), labels=['Neutral','Positive','Negetive'], autopct='%2.1f%%')\n",
    "circle=plt.Circle((0,0),0.76,color='white')\n",
    "get_current_figure=plt.gcf()\n",
    "get_current_figure.gca().add_artist(circle)\n",
    "plt.show()"
   ]
  },
  {
   "cell_type": "markdown",
   "id": "9cd1e80f",
   "metadata": {},
   "source": [
    "### Conclusion:\n",
    "From the Elon Musk tweet data we got 43% of positive comments and 11% of negetive comments"
   ]
  },
  {
   "cell_type": "markdown",
   "id": "5aabd1bb",
   "metadata": {},
   "source": [
    "## ========================================================================="
   ]
  }
 ],
 "metadata": {
  "kernelspec": {
   "display_name": "Python 3",
   "language": "python",
   "name": "python3"
  },
  "language_info": {
   "codemirror_mode": {
    "name": "ipython",
    "version": 3
   },
   "file_extension": ".py",
   "mimetype": "text/x-python",
   "name": "python",
   "nbconvert_exporter": "python",
   "pygments_lexer": "ipython3",
   "version": "3.8.8"
  }
 },
 "nbformat": 4,
 "nbformat_minor": 5
}
